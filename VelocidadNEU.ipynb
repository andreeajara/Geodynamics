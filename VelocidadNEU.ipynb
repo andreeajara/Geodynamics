{
 "metadata": {
  "name": ""
 },
 "nbformat": 3,
 "nbformat_minor": 0,
 "worksheets": [
  {
   "cells": [
    {
     "cell_type": "code",
     "collapsed": false,
     "input": [
      "%pylab inline"
     ],
     "language": "python",
     "metadata": {},
     "outputs": [
      {
       "output_type": "stream",
       "stream": "stdout",
       "text": [
        "Populating the interactive namespace from numpy and matplotlib\n"
       ]
      }
     ],
     "prompt_number": 1
    },
    {
     "cell_type": "code",
     "collapsed": false,
     "input": [
      "#Funcion que convierte coordenadas en lat, lon a cartesianas. \n",
      "def toCartesian(lat,lon,r):\n",
      "    x=cos(radians(lat))*cos(radians(lon))*r\n",
      "    y=cos(radians(lat))*sin(radians(lon))*r\n",
      "    z=sin(radians(lat))*r\n",
      "    return x,y,z"
     ],
     "language": "python",
     "metadata": {},
     "outputs": [],
     "prompt_number": 2
    },
    {
     "cell_type": "code",
     "collapsed": false,
     "input": [
      "#se convierte a cartesianas la posici\u00f3n del hot spot de Hawai\n",
      "r=toCartesian(19.4,-155.5,6370.8*10**6)\n",
      "\n",
      "#se convierte a cartesianas la posici\u00f3n del polo\n",
      "w=toCartesian(-61.7,97.2,radians(9.67)*10**-7)\n",
      "\n",
      "#se hace el producto cruz entre la posicion del hot spot y la posicion del polo para hallar la velocidad\n",
      "v=np.cross(w,r)\n",
      "print v"
     ],
     "language": "python",
     "metadata": {},
     "outputs": [
      {
       "output_type": "stream",
       "stream": "stdout",
       "text": [
        "[-20.23190609  83.37769931  45.90561093]\n"
       ]
      }
     ],
     "prompt_number": 3
    },
    {
     "cell_type": "code",
     "collapsed": false,
     "input": [
      "#Funcion que convierte de cartesianas a NEU mediante una matriz de rotaci\u00f3n. Se requieren componentes\n",
      "#x, y, z del vector y lat, lon del punto\n",
      "def toLocal(x,y,z,lat,lon):\n",
      "    N=(-sin(radians(lat))*cos(radians(lon))*x)-(sin(radians(lat))*sin(radians(lon))*y)+(cos(radians(lat))*z)\n",
      "    E=(-sin(radians(lon))*x)+(cos(radians(lon))*y)\n",
      "    U=-(cos(radians(lat))*cos(radians(lon))*x)-(cos(radians(lat))*sin(radians(lon))*y)-(sin(radians(lat))*z)\n",
      "    return(N,E,U)"
     ],
     "language": "python",
     "metadata": {},
     "outputs": [],
     "prompt_number": 4
    },
    {
     "cell_type": "code",
     "collapsed": false,
     "input": [
      "#En este caso x, y, z son las componentes del vector v (velocidad) y lat, lon\n",
      "#son las coordenadas del hot spot\n",
      "resp=toLocal(v[0],v[1],v[2],19.4,-155.5)\n",
      "print resp"
     ],
     "language": "python",
     "metadata": {},
     "outputs": [
      {
       "output_type": "stream",
       "stream": "stdout",
       "text": [
        "(48.668901812708683, -84.26051197077912, 5.3290705182007514e-15)\n"
       ]
      }
     ],
     "prompt_number": 5
    },
    {
     "cell_type": "code",
     "collapsed": false,
     "input": [
      "#Se convierte a cartesianas el punto donde se encuentra la primera isla de la cadena Hawai-Emperador\n",
      "r=toCartesian(50.47,167.65,6370.8*10**6)\n",
      "\n",
      "#Se convierte a cartesianas la posici\u00f3n del polo norteamerica-Pac\u00edfica\n",
      "w=toCartesian(48.7,-78.2,radians(7.8)*10**-7)\n",
      "\n",
      "#Se hace el producto cruz entre los dos vectores anteriores para hallar la velocidad entre estos. Como la direccion es\n",
      "#Pacifica-norteamerica se hace el producto como r x w. \n",
      "v=np.cross(r,w)\n",
      "print v"
     ],
     "language": "python",
     "metadata": {},
     "outputs": [
      {
       "output_type": "stream",
       "stream": "stdout",
       "text": [
        "[ 52.08681885  49.53983706  33.24446651]\n"
       ]
      }
     ],
     "prompt_number": 6
    },
    {
     "cell_type": "code",
     "collapsed": false,
     "input": [
      "resp=toLocal(v[0],v[1],v[2],50.47,167.65)\n",
      "print resp"
     ],
     "language": "python",
     "metadata": {},
     "outputs": [
      {
       "output_type": "stream",
       "stream": "stdout",
       "text": [
        "(52.23157674628191, -59.533932329153657, -3.5527136788005009e-15)\n"
       ]
      }
     ],
     "prompt_number": 7
    },
    {
     "cell_type": "code",
     "collapsed": false,
     "input": [
      "def vTibet(latx,lonx):\n",
      "    latp=24.4\n",
      "    lonp=17.7\n",
      "    w=radians(5.3)*10**-7\n",
      "    r=6371*10**5 #cm\n",
      "    a=arccos(sin(radians(latx))*sin(radians(latp))+cos(radians(latx))*cos(radians(latp))*cos(radians(lonp-lonx)))\n",
      "    v=w*r*sin(a)\n",
      "    return v"
     ],
     "language": "python",
     "metadata": {},
     "outputs": [],
     "prompt_number": 7
    },
    {
     "cell_type": "code",
     "collapsed": false,
     "input": [
      "vt=[vTibet(29.07,83.89),vTibet(29.64,95.12), vTibet(28.09,92.9),vTibet(27.87,89.69), vTibet(28.38,84.41), vTibet(29.96,80.98), vTibet(31.17,78.4),vTibet(33.24,76.44)]\n",
      "print vt, mean(vt)"
     ],
     "language": "python",
     "metadata": {},
     "outputs": [
      {
       "output_type": "stream",
       "stream": "stdout",
       "text": [
        "[5.0265024224334578, 5.4592114839049675, 5.4019904462088562, 5.2863437795113919, 5.0582357462457743, 4.8783612920102071, 4.7359782269284914, 4.6160092661742054] 5.05782908293\n"
       ]
      }
     ],
     "prompt_number": 11
    },
    {
     "cell_type": "code",
     "collapsed": false,
     "input": [],
     "language": "python",
     "metadata": {},
     "outputs": []
    }
   ],
   "metadata": {}
  }
 ]
}